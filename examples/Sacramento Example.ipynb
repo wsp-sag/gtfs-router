{
 "cells": [
  {
   "cell_type": "code",
   "execution_count": 1,
   "metadata": {},
   "outputs": [],
   "source": [
    "import os\n",
    "\n",
    "import partridge as ptg\n",
    "import pandas as pd\n",
    "\n",
    "from gtfs_router.raptor import raptor_assignment\n",
    "from gtfs_router import log_stop_information"
   ]
  },
  {
   "cell_type": "markdown",
   "metadata": {},
   "source": [
    "### Read in the GTFS feed\n",
    "In this case, we're just using the busiest day"
   ]
  },
  {
   "cell_type": "code",
   "execution_count": 2,
   "metadata": {},
   "outputs": [
    {
     "name": "stdout",
     "output_type": "stream",
     "text": [
      "Date Selected: 2021-04-05\n"
     ]
    }
   ],
   "source": [
    "gtfs_path = os.path.join('..', 'data', 'sacramento_2021_03_15')\n",
    "_date, service_ids = ptg.read_busiest_date(gtfs_path)\n",
    "view = {'trips.txt': {'service_id': service_ids}}\n",
    "feed = ptg.load_feed(gtfs_path, view)\n",
    "\n",
    "print('Date Selected: {}'.format(_date))"
   ]
  },
  {
   "cell_type": "markdown",
   "metadata": {},
   "source": [
    "### Set the parameters of the search"
   ]
  },
  {
   "cell_type": "code",
   "execution_count": 3,
   "metadata": {},
   "outputs": [],
   "source": [
    "# Depart at 8:30AM (in seconds)\n",
    "departure_time = 8.5 * 60 * 60\n",
    "\n",
    "# Up to two transfers are allowed\n",
    "max_transfers = 2\n",
    "\n",
    "# Northeast Sacramento\n",
    "from_stop_id = '1242' #MARCONI AVE & GREENWOOD AVE (WB)\n",
    "\n",
    "# LRT Station near Folsom\n",
    "to_stop_id = '7065' #Sunrise Station (EB)"
   ]
  },
  {
   "cell_type": "markdown",
   "metadata": {},
   "source": [
    "### Evaluate the potential paths and report out the fastest travel time"
   ]
  },
  {
   "cell_type": "code",
   "execution_count": 4,
   "metadata": {},
   "outputs": [
    {
     "name": "stdout",
     "output_type": "stream",
     "text": [
      "Travel Time: 95.0 minutes\n"
     ]
    }
   ],
   "source": [
    "stop_state = raptor_assignment(feed.stop_times, from_stop_id, to_stop_id, departure_time, feed.transfers, max_transfers)\n",
    "print('Travel Time: {:.1f} minutes'.format(stop_state.get_stop(to_stop_id)['time_to_reach'] / 60))"
   ]
  },
  {
   "cell_type": "markdown",
   "metadata": {},
   "source": [
    "### Describe the path as traditional transit directions"
   ]
  },
  {
   "cell_type": "code",
   "execution_count": 5,
   "metadata": {},
   "outputs": [
    {
     "name": "stdout",
     "output_type": "stream",
     "text": [
      "Segment 1:   Board 25-MARCONI at MARCONI AVE & GREENWOOD AVE (WB)(1242) at 08:47:00 -> Alight at MARCONI AVE & WATT AVE (WB)(1247) at 08:53:00\n",
      "\n",
      "Segment 2:   Walk from MARCONI AVE & WATT AVE (WB)(1247) to WATT AVE & MARCONI AVE (SB)(3078)\n",
      "\n",
      "Segment 3:   Board 84-WATT at WATT AVE & MARCONI AVE (SB)(3078) at 09:04:00 -> Alight at FOLSOM BLVD & MANLOVE RD (WB)(2752) at 09:32:00\n",
      "\n",
      "Segment 4:   Walk from FOLSOM BLVD & MANLOVE RD (WB)(2752) to Watt/Manlove Station (EB)(7058)\n",
      "\n",
      "Segment 5:   Board Gold-Downtown - Folsom at Watt/Manlove Station (EB)(7058) at 09:49:00 -> Alight at Sunrise Station (EB)(7065) at 10:05:00\n",
      "\n"
     ]
    }
   ],
   "source": [
    "paths = stop_state.describe_path(to_stop_id, feed.stops, feed.stop_times, feed.trips, feed.routes)\n",
    "\n",
    "for segment, path in paths.items():\n",
    "    print('Segment {}:   {}\\n'.format(segment, path))"
   ]
  }
 ],
 "metadata": {
  "kernelspec": {
   "display_name": "gtfs-router",
   "language": "python",
   "name": "gtfs-router"
  },
  "language_info": {
   "codemirror_mode": {
    "name": "ipython",
    "version": 3
   },
   "file_extension": ".py",
   "mimetype": "text/x-python",
   "name": "python",
   "nbconvert_exporter": "python",
   "pygments_lexer": "ipython3",
   "version": "3.9.5"
  }
 },
 "nbformat": 4,
 "nbformat_minor": 4
}
